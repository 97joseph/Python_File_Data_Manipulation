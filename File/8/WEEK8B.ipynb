{
 "cells": [
  {
   "cell_type": "code",
   "execution_count": null,
   "metadata": {},
   "outputs": [],
   "source": [
    "Week 8 Lab Instructions (3%) \n",
    "Data loading, Storage, and File Formats \n",
    "Get the lab supervisor check progress in the lab to get marks! Before approaching the lab supervisor for marking, make sure you run all cells! Task 1 (1%) Copy and paste the data below and save the file as ‘datainput.csv’. Read data into a pandas DataFrame with variable name ‘data’. Then i) Print the first 5 rows, and all of the columns for those rows; ii) Print the rows from position 5 onwards, and columns from position 2 onwards; iii) Print the first two columns, and all of the rows for the column; iv) Print from 6th row, and all of the columns for that row. \n",
    "id, emp_name,   emp_salary,  start_date,  dept \n",
    "1,  Vishavjeet, 999.3,       2018-12-04,  IT \n",
    "2,  Nimesh,     878.4,       2017-09-24,  IT \n",
    "3,  Sara,       611,         2014-11-15,  HR \n",
    "4,  Gulfam,     729,         2014-05-11,  IT \n",
    "5,  Jack,      845.25,       2016-07-27,  Finance \n",
    "6,  Jessica,   878,          2014-05-21,  Marketing \n",
    "7,  Saurav,    632.8,        2018-07-30,  Operations \n",
    "8,  Sachin,    722.5,        2017-06-17,  SEO \n",
    " \n",
    "Task 2 (1%) Copy and paste the above data in the sheet 1 of an excel file ‘input.xlsx’. Copy and paste the following data as the sheet 2 data of the same excel file: i) Read the sheet 1 data into a pandas DataFrame with variable name ‘df1’ and then read the sheet 2 data into a pandas DataFrame with variable name ‘df2’. ii) Print the first five rows of the ‘salary’ column of sheet 1 and Print the first five rows of the ‘zipcode’ column of sheet 2. iii) merge df1 and df2 as df3 and then write df3 to the sheet 3 of the excel file. \n",
    "# Data in Sheet2 \n",
    "id name       zipcode \n",
    "1,  Vishavjeet,    778888 \n",
    "2,  Nimesh,        553322 \n",
    "3,  Sara,          665544 \n",
    "\n",
    "Task 3 (1%) Copy and paste the data below and save the file as ‘input.json’. i) Read the json file into a pandas DataFrame with variable name ‘data’; ii) Print the data and then dump the data into a json string and print the dumped string again with indent of 4 for an easy read. iii) Remove the ‘Salary’ column of data and then writes the new data to another json file ‘output.json’. iv) load another json file from the Web with URL: https://api.exchangerateapi.com/v4/latest/USD into a data frame ‘df’ and then print this data frame. \n",
    "{  \n",
    "   \"ID\":[\"1\",\"2\",\"3\",\"4\",\"5\",\"6\",\"7\",\"8\" ], \n",
    "   \"Name\":[\"Vishavjeet\",\"Amit\",\"Nimesh\",\"Sara\",\"Saurav\",\"Gulfam\",\"Anupam\",\"Guru\" ], \n",
    "   \"Salary\":[\"623.3\",\"515.2\",\"611\",\"729\",\"843.25\",\"578\",\"632.8\",\"722.5\" ], \n",
    "   \"StartDate\":[ \"1/1/2013\",\"9/23/2014\",\"11/15/2013\",\"5/11/2014\",\"3/27/2015\",\"5/21/2013\", \n",
    "      \"7/30/2013\",\"6/17/2014\"], \n",
    "   \"Dept\":[ \"IT\",\"Operations\",\"IT\",\"HR\",\"Finance\",\"IT\",\"Operations\",\"Finance\"] "
   ]
  }
 ],
 "metadata": {
  "kernelspec": {
   "display_name": "Python 3",
   "language": "python",
   "name": "python3"
  },
  "language_info": {
   "codemirror_mode": {
    "name": "ipython",
    "version": 3
   },
   "file_extension": ".py",
   "mimetype": "text/x-python",
   "name": "python",
   "nbconvert_exporter": "python",
   "pygments_lexer": "ipython3",
   "version": "3.7.7"
  }
 },
 "nbformat": 4,
 "nbformat_minor": 4
}
