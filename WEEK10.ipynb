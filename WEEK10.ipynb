{
 "cells": [
  {
   "cell_type": "code",
   "execution_count": null,
   "metadata": {},
   "outputs": [],
   "source": [
    "ASSIGNMENT 10"
   ]
  },
  {
   "cell_type": "code",
   "execution_count": null,
   "metadata": {},
   "outputs": [],
   "source": [
    "Data wrangling: Join, combine, and reshape \n",
    "Get the lab supervisor check progress in the lab to get marks! Before approaching the lab supervisor for marking, make sure you run all cells! Task.1. create two different data frames as follows and concatenate them. \n",
    "rank  team   rating     rank   team     rating \n",
    "1     England       126    1    Australia    102 \n",
    "2     India             121    2    SriLanka    100 \n",
    "3   NewZealand  112    3    Pakistan     93 \n",
    "4  SouthAfrica    111    4    WestIndies  79 \n",
    " \n",
    "Task 2 create two different data frames as follows and perform outer, right, left and inner joins between them. Clearly explain the reasons of the results in the markdown texts. \n",
    "rank team rating     rank team rating \n",
    "1 England 126                  1 India 126 \n",
    "2 India  121    2 England 121 \n",
    "3 NewZealand 112    3 SouthAfrica 112 \n",
    "4 SouthAfrica 111    4 NewZealand 111 \n",
    "5 Pakistan 102                5 Australia 102 \n",
    "6 Australia 100                6 SriLanka 100 \n",
    "7 Bangladesh 93    7 Pakistan 93 \n",
    "8 SriLanka 79                8 WestIndies 79 "
   ]
  },
  {
   "cell_type": "code",
   "execution_count": null,
   "metadata": {},
   "outputs": [],
   "source": [
    "# Read in first 10 lines of surveys table\n",
    "survey_sub = surveys_df.head(10)\n",
    "# Grab the last 10 rows\n",
    "survey_sub_last10 = surveys_df.tail(10)\n",
    "# Reset the index values to the second dataframe appends properly\n",
    "survey_sub_last10 = survey_sub_last10.reset_index(drop=True)\n",
    "# drop=True option avoids adding new index column with old index values\n",
    " Stack the DataFrames on top of each other\n",
    "vertical_stack = pd.concat([survey_sub, survey_sub_last10], axis=0)\n",
    "\n",
    "# Place the DataFrames side by side\n",
    "horizontal_stack = pd.concat([survey_sub, survey_sub_last10], axis=1)"
   ]
  },
  {
   "cell_type": "code",
   "execution_count": null,
   "metadata": {},
   "outputs": [],
   "source": [
    "#join keys\n",
    "pecies_sub.columns\n",
    "\n",
    "Index([u'species_id', u'genus', u'species', u'taxa'], dtype='object')\n",
    "\n",
    "survey_sub.columns\n",
    "\n",
    "Index([u'record_id', u'month', u'day', u'year', u'plot_id', u'species_id',\n",
    "       u'sex', u'hindfoot_length', u'weight'], dtype='object')\n",
    "merged_inner = pd.merge(left=survey_sub, right=species_sub, left_on='species_id', right_on='species_id')\n",
    "# In this case `species_id` is the only column name in  both dataframes, so if we skipped `left_on`\n",
    "# And `right_on` arguments we would still get the same result\n",
    "\n",
    "# What's the size of the output data?\n",
    "merged_inner.shape\n",
    "merged_inner\n",
    "merged_left = pd.merge(left=survey_sub, right=species_sub, how='left', left_on='species_id', right_on='species_id')\n",
    "merged_left\n",
    "merged_left[ pd.isnull(merged_left.genus) ]"
   ]
  }
 ],
 "metadata": {
  "kernelspec": {
   "display_name": "Python 3",
   "language": "python",
   "name": "python3"
  },
  "language_info": {
   "codemirror_mode": {
    "name": "ipython",
    "version": 3
   },
   "file_extension": ".py",
   "mimetype": "text/x-python",
   "name": "python",
   "nbconvert_exporter": "python",
   "pygments_lexer": "ipython3",
   "version": "3.7.7"
  }
 },
 "nbformat": 4,
 "nbformat_minor": 4
}
